{
 "cells": [
  {
   "cell_type": "code",
   "execution_count": 2,
   "metadata": {},
   "outputs": [],
   "source": [
    "import numpy as np\n",
    "import pandas as pd\n",
    "from LogisticRegression import LogisticRegression as logreg"
   ]
  },
  {
   "cell_type": "code",
   "execution_count": 3,
   "metadata": {},
   "outputs": [],
   "source": [
    "df_test = pd.read_csv('weights.csv', header=0)"
   ]
  },
  {
   "cell_type": "code",
   "execution_count": 4,
   "metadata": {},
   "outputs": [
    {
     "data": {
      "text/html": [
       "<div>\n",
       "<style scoped>\n",
       "    .dataframe tbody tr th:only-of-type {\n",
       "        vertical-align: middle;\n",
       "    }\n",
       "\n",
       "    .dataframe tbody tr th {\n",
       "        vertical-align: top;\n",
       "    }\n",
       "\n",
       "    .dataframe thead th {\n",
       "        text-align: right;\n",
       "    }\n",
       "</style>\n",
       "<table border=\"1\" class=\"dataframe\">\n",
       "  <thead>\n",
       "    <tr style=\"text-align: right;\">\n",
       "      <th></th>\n",
       "      <th>Ravenclaw</th>\n",
       "      <th>Slytherin</th>\n",
       "      <th>Gryffindor</th>\n",
       "      <th>Hufflepuff</th>\n",
       "    </tr>\n",
       "  </thead>\n",
       "  <tbody>\n",
       "    <tr>\n",
       "      <th>0</th>\n",
       "      <td>-0.774034</td>\n",
       "      <td>-0.252206</td>\n",
       "      <td>-0.345309</td>\n",
       "      <td>-0.544897</td>\n",
       "    </tr>\n",
       "    <tr>\n",
       "      <th>1</th>\n",
       "      <td>-0.004736</td>\n",
       "      <td>0.008436</td>\n",
       "      <td>0.015866</td>\n",
       "      <td>0.014421</td>\n",
       "    </tr>\n",
       "    <tr>\n",
       "      <th>2</th>\n",
       "      <td>0.015856</td>\n",
       "      <td>0.260727</td>\n",
       "      <td>0.196637</td>\n",
       "      <td>0.179045</td>\n",
       "    </tr>\n",
       "    <tr>\n",
       "      <th>3</th>\n",
       "      <td>-0.146929</td>\n",
       "      <td>0.135192</td>\n",
       "      <td>0.455335</td>\n",
       "      <td>0.769644</td>\n",
       "    </tr>\n",
       "    <tr>\n",
       "      <th>4</th>\n",
       "      <td>0.242601</td>\n",
       "      <td>-0.322565</td>\n",
       "      <td>-0.310646</td>\n",
       "      <td>0.550781</td>\n",
       "    </tr>\n",
       "    <tr>\n",
       "      <th>5</th>\n",
       "      <td>0.361445</td>\n",
       "      <td>0.564225</td>\n",
       "      <td>0.166686</td>\n",
       "      <td>-0.352907</td>\n",
       "    </tr>\n",
       "    <tr>\n",
       "      <th>6</th>\n",
       "      <td>0.026361</td>\n",
       "      <td>-0.605586</td>\n",
       "      <td>0.010648</td>\n",
       "      <td>0.102504</td>\n",
       "    </tr>\n",
       "    <tr>\n",
       "      <th>7</th>\n",
       "      <td>0.611406</td>\n",
       "      <td>-0.058733</td>\n",
       "      <td>0.092186</td>\n",
       "      <td>-0.175612</td>\n",
       "    </tr>\n",
       "    <tr>\n",
       "      <th>8</th>\n",
       "      <td>0.421972</td>\n",
       "      <td>-0.169572</td>\n",
       "      <td>0.388847</td>\n",
       "      <td>-0.516083</td>\n",
       "    </tr>\n",
       "    <tr>\n",
       "      <th>9</th>\n",
       "      <td>0.072565</td>\n",
       "      <td>0.268671</td>\n",
       "      <td>-0.159661</td>\n",
       "      <td>0.426726</td>\n",
       "    </tr>\n",
       "    <tr>\n",
       "      <th>10</th>\n",
       "      <td>-0.028460</td>\n",
       "      <td>0.215448</td>\n",
       "      <td>-0.301477</td>\n",
       "      <td>0.347171</td>\n",
       "    </tr>\n",
       "    <tr>\n",
       "      <th>11</th>\n",
       "      <td>-0.009180</td>\n",
       "      <td>0.445415</td>\n",
       "      <td>0.085625</td>\n",
       "      <td>-0.023615</td>\n",
       "    </tr>\n",
       "    <tr>\n",
       "      <th>12</th>\n",
       "      <td>0.052253</td>\n",
       "      <td>0.219775</td>\n",
       "      <td>0.169016</td>\n",
       "      <td>0.125905</td>\n",
       "    </tr>\n",
       "    <tr>\n",
       "      <th>13</th>\n",
       "      <td>0.503406</td>\n",
       "      <td>-0.336096</td>\n",
       "      <td>-0.218613</td>\n",
       "      <td>-0.014302</td>\n",
       "    </tr>\n",
       "    <tr>\n",
       "      <th>14</th>\n",
       "      <td>0.151887</td>\n",
       "      <td>0.204161</td>\n",
       "      <td>0.701248</td>\n",
       "      <td>-0.010783</td>\n",
       "    </tr>\n",
       "  </tbody>\n",
       "</table>\n",
       "</div>"
      ],
      "text/plain": [
       "    Ravenclaw  Slytherin  Gryffindor  Hufflepuff\n",
       "0   -0.774034  -0.252206   -0.345309   -0.544897\n",
       "1   -0.004736   0.008436    0.015866    0.014421\n",
       "2    0.015856   0.260727    0.196637    0.179045\n",
       "3   -0.146929   0.135192    0.455335    0.769644\n",
       "4    0.242601  -0.322565   -0.310646    0.550781\n",
       "5    0.361445   0.564225    0.166686   -0.352907\n",
       "6    0.026361  -0.605586    0.010648    0.102504\n",
       "7    0.611406  -0.058733    0.092186   -0.175612\n",
       "8    0.421972  -0.169572    0.388847   -0.516083\n",
       "9    0.072565   0.268671   -0.159661    0.426726\n",
       "10  -0.028460   0.215448   -0.301477    0.347171\n",
       "11  -0.009180   0.445415    0.085625   -0.023615\n",
       "12   0.052253   0.219775    0.169016    0.125905\n",
       "13   0.503406  -0.336096   -0.218613   -0.014302\n",
       "14   0.151887   0.204161    0.701248   -0.010783"
      ]
     },
     "execution_count": 4,
     "metadata": {},
     "output_type": "execute_result"
    }
   ],
   "source": [
    "df_test"
   ]
  },
  {
   "cell_type": "code",
   "execution_count": 5,
   "metadata": {},
   "outputs": [],
   "source": [
    "ravenclaw = logreg(np.array(df_test['Ravenclaw']))\n",
    "slytherin = logreg(np.array(df_test['Slytherin']))\n",
    "gryffindor = logreg(np.array(df_test['Gryffindor']))\n",
    "hufflepuff = logreg(np.array(df_test['Hufflepuff']))"
   ]
  },
  {
   "cell_type": "code",
   "execution_count": 6,
   "metadata": {},
   "outputs": [],
   "source": [
    "df_test = pd.read_csv('./datasets/dataset_test.csv')\n",
    "df_test.fillna(0,inplace=True)\n",
    "df_test = df_test.drop(['Birthday','First Name','Last Name'], axis=1)\n",
    "df_test['Best Hand'] = df_test['Best Hand'].astype(str).map({'Left':'0','Right':'1'})\n",
    "df_test['Best Hand'] = pd.to_numeric(df_test['Best Hand'])\n",
    "x_test = np.array(logreg.normalize(df_test.iloc[:,2:]))\n",
    "ravenclaw_test = ravenclaw.predict(x_test)\n",
    "slytherin_test = slytherin.predict(x_test)\n",
    "gryffindor_test = gryffindor.predict(x_test)\n",
    "hufflepuff_test = hufflepuff.predict(x_test)\n",
    "result = np.c_[ravenclaw_test, slytherin_test, gryffindor_test,hufflepuff_test]"
   ]
  },
  {
   "cell_type": "code",
   "execution_count": 7,
   "metadata": {},
   "outputs": [
    {
     "data": {
      "text/plain": [
       "array([3, 0, 2, 3, 3, 1, 0, 3, 0, 3, 3, 1, 1, 1, 1, 3, 0, 1, 0, 3, 3, 1,\n",
       "       0, 0, 3, 3, 0, 1, 2, 0, 3, 3, 2, 3, 3, 0, 2, 0, 1, 0, 0, 1, 3, 1,\n",
       "       3, 0, 1, 2, 0, 1, 0, 3, 0, 0, 3, 1, 1, 0, 3, 2, 2, 2, 3, 3, 0, 3,\n",
       "       3, 0, 3, 0, 1, 1, 2, 0, 2, 3, 3, 2, 0, 2, 0, 3, 1, 2, 2, 3, 3, 3,\n",
       "       0, 0, 3, 1, 2, 3, 0, 0, 2, 1, 3, 0, 3, 3, 3, 1, 0, 0, 3, 1, 1, 3,\n",
       "       3, 1, 2, 0, 3, 0, 0, 3, 1, 0, 2, 3, 2, 2, 0, 0, 1, 0, 3, 0, 0, 2,\n",
       "       2, 1, 3, 0, 0, 1, 2, 3, 3, 0, 2, 0, 2, 0, 0, 3, 3, 0, 3, 2, 2, 0,\n",
       "       0, 2, 3, 1, 3, 0, 0, 3, 3, 3, 0, 1, 3, 3, 3, 3, 2, 3, 3, 1, 3, 2,\n",
       "       2, 3, 3, 1, 0, 0, 2, 1, 2, 2, 3, 0, 3, 1, 2, 3, 2, 0, 0, 3, 0, 3,\n",
       "       3, 2, 2, 3, 0, 3, 2, 1, 0, 3, 2, 0, 2, 3, 1, 0, 1, 1, 3, 3, 2, 2,\n",
       "       2, 2, 3, 3, 2, 0, 0, 0, 3, 3, 2, 3, 1, 0, 3, 3, 3, 1, 2, 2, 3, 2,\n",
       "       3, 3, 2, 2, 0, 0, 3, 3, 1, 1, 3, 3, 0, 0, 3, 0, 3, 0, 1, 0, 0, 3,\n",
       "       3, 0, 0, 2, 0, 0, 3, 1, 0, 2, 0, 3, 0, 2, 2, 3, 3, 3, 3, 0, 3, 0,\n",
       "       0, 1, 2, 0, 2, 2, 0, 2, 3, 2, 1, 3, 3, 3, 3, 3, 3, 3, 0, 1, 3, 0,\n",
       "       3, 1, 3, 3, 3, 2, 0, 3, 0, 1, 3, 1, 1, 0, 0, 1, 0, 0, 1, 3, 1, 2,\n",
       "       0, 3, 2, 0, 0, 3, 0, 3, 2, 3, 3, 1, 0, 2, 0, 3, 3, 0, 0, 1, 1, 2,\n",
       "       3, 0, 1, 3, 3, 3, 2, 3, 0, 2, 2, 0, 3, 2, 3, 3, 2, 3, 1, 2, 2, 0,\n",
       "       3, 3, 0, 1, 2, 1, 2, 3, 2, 2, 2, 2, 0, 0, 3, 0, 1, 3, 3, 0, 0, 1,\n",
       "       3, 3, 0, 0])"
      ]
     },
     "execution_count": 7,
     "metadata": {},
     "output_type": "execute_result"
    }
   ],
   "source": [
    "prediction = np.zeros(len(x_test)).astype(str)\n",
    "for index, row in enumerate(result):\n",
    "    if (max(row) == row[0]):\n",
    "        prediction[index] = 0.\n",
    "    elif (max(row) == row[1]):\n",
    "        prediction[index] = 1.\n",
    "    elif (max(row) == row[2]):\n",
    "        prediction[index] = 2.\n",
    "    elif (max(row) == row[3]):\n",
    "        prediction[index] = 3.\n",
    "    else:\n",
    "        prediction[index] = 0.\n",
    "prediction = pd.to_numeric(prediction).astype(int)\n",
    "prediction"
   ]
  },
  {
   "cell_type": "code",
   "execution_count": 11,
   "metadata": {},
   "outputs": [],
   "source": [
    "dic0 = {\n",
    "    'Ravenclaw':0,\n",
    "    'Slytherin':1,\n",
    "    'Gryffindor':2,\n",
    "    'Hufflepuff':3\n",
    "}\n",
    "dic2 = {\n",
    "    0:'Ravenclaw',\n",
    "    1:'Slytherin',\n",
    "    2:'Gryffindor',\n",
    "    3:'Hufflepuff'\n",
    "}\n",
    "f = open(\"houses.csv\", \"w\")\n",
    "f.write('Index,Hogwarts House\\n')\n",
    "for index, n in enumerate(prediction):\n",
    "    n = dic2[n]\n",
    "    f.write(f'{index},{n}\\n')\n",
    "f.close()"
   ]
  },
  {
   "cell_type": "code",
   "execution_count": 12,
   "metadata": {},
   "outputs": [
    {
     "data": {
      "text/html": [
       "<div>\n",
       "<style scoped>\n",
       "    .dataframe tbody tr th:only-of-type {\n",
       "        vertical-align: middle;\n",
       "    }\n",
       "\n",
       "    .dataframe tbody tr th {\n",
       "        vertical-align: top;\n",
       "    }\n",
       "\n",
       "    .dataframe thead th {\n",
       "        text-align: right;\n",
       "    }\n",
       "</style>\n",
       "<table border=\"1\" class=\"dataframe\">\n",
       "  <thead>\n",
       "    <tr style=\"text-align: right;\">\n",
       "      <th></th>\n",
       "      <th>Index</th>\n",
       "      <th>Hogwarts House</th>\n",
       "    </tr>\n",
       "  </thead>\n",
       "  <tbody>\n",
       "    <tr>\n",
       "      <th>0</th>\n",
       "      <td>0</td>\n",
       "      <td>Hufflepuff</td>\n",
       "    </tr>\n",
       "    <tr>\n",
       "      <th>1</th>\n",
       "      <td>1</td>\n",
       "      <td>Ravenclaw</td>\n",
       "    </tr>\n",
       "    <tr>\n",
       "      <th>2</th>\n",
       "      <td>2</td>\n",
       "      <td>Gryffindor</td>\n",
       "    </tr>\n",
       "    <tr>\n",
       "      <th>3</th>\n",
       "      <td>3</td>\n",
       "      <td>Hufflepuff</td>\n",
       "    </tr>\n",
       "    <tr>\n",
       "      <th>4</th>\n",
       "      <td>4</td>\n",
       "      <td>Hufflepuff</td>\n",
       "    </tr>\n",
       "    <tr>\n",
       "      <th>...</th>\n",
       "      <td>...</td>\n",
       "      <td>...</td>\n",
       "    </tr>\n",
       "    <tr>\n",
       "      <th>395</th>\n",
       "      <td>395</td>\n",
       "      <td>Slytherin</td>\n",
       "    </tr>\n",
       "    <tr>\n",
       "      <th>396</th>\n",
       "      <td>396</td>\n",
       "      <td>Hufflepuff</td>\n",
       "    </tr>\n",
       "    <tr>\n",
       "      <th>397</th>\n",
       "      <td>397</td>\n",
       "      <td>Hufflepuff</td>\n",
       "    </tr>\n",
       "    <tr>\n",
       "      <th>398</th>\n",
       "      <td>398</td>\n",
       "      <td>Ravenclaw</td>\n",
       "    </tr>\n",
       "    <tr>\n",
       "      <th>399</th>\n",
       "      <td>399</td>\n",
       "      <td>Ravenclaw</td>\n",
       "    </tr>\n",
       "  </tbody>\n",
       "</table>\n",
       "<p>400 rows × 2 columns</p>\n",
       "</div>"
      ],
      "text/plain": [
       "     Index Hogwarts House\n",
       "0        0     Hufflepuff\n",
       "1        1      Ravenclaw\n",
       "2        2     Gryffindor\n",
       "3        3     Hufflepuff\n",
       "4        4     Hufflepuff\n",
       "..     ...            ...\n",
       "395    395      Slytherin\n",
       "396    396     Hufflepuff\n",
       "397    397     Hufflepuff\n",
       "398    398      Ravenclaw\n",
       "399    399      Ravenclaw\n",
       "\n",
       "[400 rows x 2 columns]"
      ]
     },
     "execution_count": 12,
     "metadata": {},
     "output_type": "execute_result"
    }
   ],
   "source": [
    "result = pd.read_csv('houses.csv')\n",
    "result"
   ]
  },
  {
   "cell_type": "raw",
   "metadata": {},
   "source": []
  },
  {
   "cell_type": "code",
   "execution_count": 13,
   "metadata": {},
   "outputs": [
    {
     "name": "stdout",
     "output_type": "stream",
     "text": [
      "Accuracy: 98.5%\n"
     ]
    }
   ],
   "source": [
    "truth = pd.read_csv('./datasets/dataset_truth.csv')\n",
    "orig = np.array(truth['Hogwarts House'].map(dic0))\n",
    "pred = prediction.astype(int)\n",
    "accuracy = 0\n",
    "for i, value in enumerate(orig):\n",
    "    if (orig[i] == pred[i]):\n",
    "        accuracy +=1\n",
    "accuracy = accuracy / len(pred) * 100\n",
    "print('Accuracy: {:.5}%'.format(accuracy))"
   ]
  },
  {
   "cell_type": "code",
   "execution_count": 16,
   "metadata": {},
   "outputs": [
    {
     "data": {
      "text/plain": [
       "98.5"
      ]
     },
     "execution_count": 16,
     "metadata": {},
     "output_type": "execute_result"
    }
   ],
   "source": [
    "from sklearn.metrics import accuracy_score\n",
    "accuracy_score(orig,pred) * 100"
   ]
  },
  {
   "cell_type": "code",
   "execution_count": null,
   "metadata": {},
   "outputs": [],
   "source": []
  }
 ],
 "metadata": {
  "kernelspec": {
   "display_name": "Python 3.9.0 64-bit",
   "language": "python",
   "name": "python39064bit022e776a03e14e82a1bf794920063e93"
  },
  "language_info": {
   "codemirror_mode": {
    "name": "ipython",
    "version": 3
   },
   "file_extension": ".py",
   "mimetype": "text/x-python",
   "name": "python",
   "nbconvert_exporter": "python",
   "pygments_lexer": "ipython3",
   "version": "3.9.0"
  }
 },
 "nbformat": 4,
 "nbformat_minor": 4
}
