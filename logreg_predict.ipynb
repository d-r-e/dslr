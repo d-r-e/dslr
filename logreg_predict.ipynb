{
 "cells": [
  {
   "cell_type": "code",
   "execution_count": 1,
   "metadata": {},
   "outputs": [],
   "source": [
    "import numpy as np\n",
    "import pandas as pd\n",
    "from LogisticRegression import LogisticRegression as logreg"
   ]
  },
  {
   "cell_type": "code",
   "execution_count": 2,
   "metadata": {},
   "outputs": [],
   "source": [
    "df_test = pd.read_csv('weights.csv', header=0)"
   ]
  },
  {
   "cell_type": "code",
   "execution_count": 3,
   "metadata": {},
   "outputs": [
    {
     "data": {
      "text/html": [
       "<div>\n",
       "<style scoped>\n",
       "    .dataframe tbody tr th:only-of-type {\n",
       "        vertical-align: middle;\n",
       "    }\n",
       "\n",
       "    .dataframe tbody tr th {\n",
       "        vertical-align: top;\n",
       "    }\n",
       "\n",
       "    .dataframe thead th {\n",
       "        text-align: right;\n",
       "    }\n",
       "</style>\n",
       "<table border=\"1\" class=\"dataframe\">\n",
       "  <thead>\n",
       "    <tr style=\"text-align: right;\">\n",
       "      <th></th>\n",
       "      <th>Ravenclaw</th>\n",
       "      <th>Slytherin</th>\n",
       "      <th>Gryffindor</th>\n",
       "      <th>Hufflepuff</th>\n",
       "    </tr>\n",
       "  </thead>\n",
       "  <tbody>\n",
       "    <tr>\n",
       "      <th>0</th>\n",
       "      <td>-0.774028</td>\n",
       "      <td>-0.252225</td>\n",
       "      <td>-0.345318</td>\n",
       "      <td>-0.544896</td>\n",
       "    </tr>\n",
       "    <tr>\n",
       "      <th>1</th>\n",
       "      <td>-0.004737</td>\n",
       "      <td>0.008442</td>\n",
       "      <td>0.015870</td>\n",
       "      <td>0.014422</td>\n",
       "    </tr>\n",
       "    <tr>\n",
       "      <th>2</th>\n",
       "      <td>0.015858</td>\n",
       "      <td>0.260715</td>\n",
       "      <td>0.196631</td>\n",
       "      <td>0.179043</td>\n",
       "    </tr>\n",
       "    <tr>\n",
       "      <th>3</th>\n",
       "      <td>-0.146923</td>\n",
       "      <td>0.135187</td>\n",
       "      <td>0.455335</td>\n",
       "      <td>0.769625</td>\n",
       "    </tr>\n",
       "    <tr>\n",
       "      <th>4</th>\n",
       "      <td>0.242595</td>\n",
       "      <td>-0.322541</td>\n",
       "      <td>-0.310628</td>\n",
       "      <td>0.550761</td>\n",
       "    </tr>\n",
       "    <tr>\n",
       "      <th>5</th>\n",
       "      <td>0.361444</td>\n",
       "      <td>0.564210</td>\n",
       "      <td>0.166676</td>\n",
       "      <td>-0.352887</td>\n",
       "    </tr>\n",
       "    <tr>\n",
       "      <th>6</th>\n",
       "      <td>0.026354</td>\n",
       "      <td>-0.605562</td>\n",
       "      <td>0.010656</td>\n",
       "      <td>0.102500</td>\n",
       "    </tr>\n",
       "    <tr>\n",
       "      <th>7</th>\n",
       "      <td>0.611397</td>\n",
       "      <td>-0.058713</td>\n",
       "      <td>0.092192</td>\n",
       "      <td>-0.175594</td>\n",
       "    </tr>\n",
       "    <tr>\n",
       "      <th>8</th>\n",
       "      <td>0.421964</td>\n",
       "      <td>-0.169559</td>\n",
       "      <td>0.388842</td>\n",
       "      <td>-0.516050</td>\n",
       "    </tr>\n",
       "    <tr>\n",
       "      <th>9</th>\n",
       "      <td>0.072568</td>\n",
       "      <td>0.268664</td>\n",
       "      <td>-0.159657</td>\n",
       "      <td>0.426709</td>\n",
       "    </tr>\n",
       "    <tr>\n",
       "      <th>10</th>\n",
       "      <td>-0.028457</td>\n",
       "      <td>0.215440</td>\n",
       "      <td>-0.301473</td>\n",
       "      <td>0.347152</td>\n",
       "    </tr>\n",
       "    <tr>\n",
       "      <th>11</th>\n",
       "      <td>-0.009174</td>\n",
       "      <td>0.445395</td>\n",
       "      <td>0.085616</td>\n",
       "      <td>-0.023612</td>\n",
       "    </tr>\n",
       "    <tr>\n",
       "      <th>12</th>\n",
       "      <td>0.052257</td>\n",
       "      <td>0.219769</td>\n",
       "      <td>0.169015</td>\n",
       "      <td>0.125908</td>\n",
       "    </tr>\n",
       "    <tr>\n",
       "      <th>13</th>\n",
       "      <td>0.503396</td>\n",
       "      <td>-0.336070</td>\n",
       "      <td>-0.218601</td>\n",
       "      <td>-0.014298</td>\n",
       "    </tr>\n",
       "    <tr>\n",
       "      <th>14</th>\n",
       "      <td>0.151888</td>\n",
       "      <td>0.204159</td>\n",
       "      <td>0.701239</td>\n",
       "      <td>-0.010766</td>\n",
       "    </tr>\n",
       "  </tbody>\n",
       "</table>\n",
       "</div>"
      ],
      "text/plain": [
       "    Ravenclaw  Slytherin  Gryffindor  Hufflepuff\n",
       "0   -0.774028  -0.252225   -0.345318   -0.544896\n",
       "1   -0.004737   0.008442    0.015870    0.014422\n",
       "2    0.015858   0.260715    0.196631    0.179043\n",
       "3   -0.146923   0.135187    0.455335    0.769625\n",
       "4    0.242595  -0.322541   -0.310628    0.550761\n",
       "5    0.361444   0.564210    0.166676   -0.352887\n",
       "6    0.026354  -0.605562    0.010656    0.102500\n",
       "7    0.611397  -0.058713    0.092192   -0.175594\n",
       "8    0.421964  -0.169559    0.388842   -0.516050\n",
       "9    0.072568   0.268664   -0.159657    0.426709\n",
       "10  -0.028457   0.215440   -0.301473    0.347152\n",
       "11  -0.009174   0.445395    0.085616   -0.023612\n",
       "12   0.052257   0.219769    0.169015    0.125908\n",
       "13   0.503396  -0.336070   -0.218601   -0.014298\n",
       "14   0.151888   0.204159    0.701239   -0.010766"
      ]
     },
     "execution_count": 3,
     "metadata": {},
     "output_type": "execute_result"
    }
   ],
   "source": [
    "df_test"
   ]
  },
  {
   "cell_type": "code",
   "execution_count": 4,
   "metadata": {},
   "outputs": [],
   "source": [
    "ravenclaw = logreg(np.array(df_test['Ravenclaw']))\n",
    "slytherin = logreg(np.array(df_test['Slytherin']))\n",
    "gryffindor = logreg(np.array(df_test['Gryffindor']))\n",
    "hufflepuff = logreg(np.array(df_test['Hufflepuff']))"
   ]
  },
  {
   "cell_type": "code",
   "execution_count": 5,
   "metadata": {},
   "outputs": [],
   "source": [
    "df_test = pd.read_csv('./datasets/dataset_test.csv')\n",
    "df_test.fillna(0,inplace=True)\n",
    "df_test = df_test.drop(['Birthday','First Name','Last Name'], axis=1)\n",
    "df_test['Best Hand'] = df_test['Best Hand'].astype(str).map({'Left':'0','Right':'1'})\n",
    "df_test['Best Hand'] = pd.to_numeric(df_test['Best Hand'])\n",
    "x_test = np.array(logreg.normalize(df_test.iloc[:,2:]))\n",
    "ravenclaw_test = ravenclaw.predict(x_test)\n",
    "slytherin_test = slytherin.predict(x_test)\n",
    "gryffindor_test = gryffindor.predict(x_test)\n",
    "hufflepuff_test = hufflepuff.predict(x_test)\n",
    "result = np.c_[ravenclaw_test, slytherin_test, gryffindor_test,hufflepuff_test]"
   ]
  },
  {
   "cell_type": "code",
   "execution_count": 6,
   "metadata": {},
   "outputs": [
    {
     "data": {
      "text/plain": [
       "array([3, 0, 2, 3, 3, 1, 0, 3, 0, 3, 3, 1, 1, 1, 1, 3, 0, 1, 0, 3, 3, 1,\n",
       "       0, 0, 3, 3, 0, 1, 2, 0, 3, 3, 2, 3, 3, 0, 2, 0, 1, 0, 0, 1, 3, 1,\n",
       "       3, 0, 1, 2, 0, 1, 0, 3, 0, 0, 3, 1, 1, 0, 3, 2, 2, 2, 3, 3, 0, 3,\n",
       "       3, 0, 3, 0, 1, 1, 2, 0, 2, 3, 3, 2, 0, 2, 0, 3, 1, 2, 2, 3, 3, 3,\n",
       "       0, 0, 3, 1, 2, 3, 0, 0, 2, 1, 3, 0, 3, 3, 3, 1, 0, 0, 3, 1, 1, 3,\n",
       "       3, 1, 2, 0, 3, 0, 0, 3, 1, 0, 2, 3, 2, 2, 0, 0, 1, 0, 3, 0, 0, 2,\n",
       "       2, 1, 3, 0, 0, 1, 2, 3, 3, 0, 2, 0, 2, 0, 0, 3, 3, 0, 3, 2, 2, 0,\n",
       "       0, 2, 3, 1, 3, 0, 0, 3, 3, 3, 0, 1, 3, 3, 3, 3, 2, 3, 3, 1, 3, 2,\n",
       "       2, 3, 3, 1, 0, 0, 2, 1, 2, 2, 3, 0, 3, 1, 2, 3, 2, 0, 0, 3, 0, 3,\n",
       "       3, 2, 2, 3, 0, 3, 2, 1, 0, 3, 2, 0, 2, 3, 1, 0, 1, 1, 3, 3, 2, 2,\n",
       "       2, 2, 3, 3, 2, 0, 0, 0, 3, 3, 2, 3, 1, 0, 3, 3, 3, 1, 2, 2, 3, 2,\n",
       "       3, 3, 2, 2, 0, 0, 3, 3, 1, 1, 3, 3, 0, 0, 3, 0, 3, 0, 1, 0, 0, 3,\n",
       "       3, 0, 0, 2, 0, 0, 3, 1, 0, 2, 0, 3, 0, 2, 2, 3, 3, 3, 3, 0, 3, 0,\n",
       "       0, 1, 2, 0, 2, 2, 0, 2, 3, 2, 1, 3, 3, 3, 3, 3, 3, 3, 0, 1, 3, 0,\n",
       "       3, 1, 3, 3, 3, 2, 0, 3, 0, 1, 3, 1, 1, 0, 0, 1, 0, 0, 1, 3, 1, 2,\n",
       "       0, 3, 2, 0, 0, 3, 0, 3, 2, 3, 3, 1, 0, 2, 0, 3, 3, 0, 0, 1, 1, 2,\n",
       "       3, 0, 1, 3, 3, 3, 2, 3, 0, 2, 2, 0, 3, 2, 3, 3, 2, 3, 1, 2, 2, 0,\n",
       "       3, 3, 0, 1, 2, 1, 2, 3, 2, 2, 2, 2, 0, 0, 3, 0, 1, 3, 3, 0, 0, 1,\n",
       "       3, 3, 0, 0])"
      ]
     },
     "execution_count": 6,
     "metadata": {},
     "output_type": "execute_result"
    }
   ],
   "source": [
    "prediction = np.zeros(len(x_test)).astype(str)\n",
    "for index, row in enumerate(result):\n",
    "    if (max(row) == row[0]):\n",
    "        prediction[index] = 0.\n",
    "    elif (max(row) == row[1]):\n",
    "        prediction[index] = 1.\n",
    "    elif (max(row) == row[2]):\n",
    "        prediction[index] = 2.\n",
    "    elif (max(row) == row[3]):\n",
    "        prediction[index] = 3.\n",
    "    else:\n",
    "        prediction[index] = 0.\n",
    "prediction = pd.to_numeric(prediction).astype(int)\n",
    "prediction"
   ]
  },
  {
   "cell_type": "code",
   "execution_count": 7,
   "metadata": {},
   "outputs": [],
   "source": [
    "dic0 = {\n",
    "    'Ravenclaw':0,\n",
    "    'Slytherin':1,\n",
    "    'Gryffindor':2,\n",
    "    'Hufflepuff':3\n",
    "}\n",
    "dic2 = {\n",
    "    0:'Ravenclaw',\n",
    "    1:'Slytherin',\n",
    "    2:'Gryffindor',\n",
    "    3:'Hufflepuff'\n",
    "}\n",
    "f = open(\"houses.csv\", \"w\")\n",
    "f.write('Index,Hogwarts House\\n')\n",
    "for index, n in enumerate(prediction):\n",
    "    n = dic2[n]\n",
    "    f.write(f'{index},{n}\\n')\n",
    "f.close()"
   ]
  },
  {
   "cell_type": "code",
   "execution_count": 8,
   "metadata": {},
   "outputs": [
    {
     "data": {
      "text/html": [
       "<div>\n",
       "<style scoped>\n",
       "    .dataframe tbody tr th:only-of-type {\n",
       "        vertical-align: middle;\n",
       "    }\n",
       "\n",
       "    .dataframe tbody tr th {\n",
       "        vertical-align: top;\n",
       "    }\n",
       "\n",
       "    .dataframe thead th {\n",
       "        text-align: right;\n",
       "    }\n",
       "</style>\n",
       "<table border=\"1\" class=\"dataframe\">\n",
       "  <thead>\n",
       "    <tr style=\"text-align: right;\">\n",
       "      <th></th>\n",
       "      <th>Index</th>\n",
       "      <th>Hogwarts House</th>\n",
       "    </tr>\n",
       "  </thead>\n",
       "  <tbody>\n",
       "    <tr>\n",
       "      <th>0</th>\n",
       "      <td>0</td>\n",
       "      <td>Hufflepuff</td>\n",
       "    </tr>\n",
       "    <tr>\n",
       "      <th>1</th>\n",
       "      <td>1</td>\n",
       "      <td>Ravenclaw</td>\n",
       "    </tr>\n",
       "    <tr>\n",
       "      <th>2</th>\n",
       "      <td>2</td>\n",
       "      <td>Gryffindor</td>\n",
       "    </tr>\n",
       "    <tr>\n",
       "      <th>3</th>\n",
       "      <td>3</td>\n",
       "      <td>Hufflepuff</td>\n",
       "    </tr>\n",
       "    <tr>\n",
       "      <th>4</th>\n",
       "      <td>4</td>\n",
       "      <td>Hufflepuff</td>\n",
       "    </tr>\n",
       "    <tr>\n",
       "      <th>...</th>\n",
       "      <td>...</td>\n",
       "      <td>...</td>\n",
       "    </tr>\n",
       "    <tr>\n",
       "      <th>395</th>\n",
       "      <td>395</td>\n",
       "      <td>Slytherin</td>\n",
       "    </tr>\n",
       "    <tr>\n",
       "      <th>396</th>\n",
       "      <td>396</td>\n",
       "      <td>Hufflepuff</td>\n",
       "    </tr>\n",
       "    <tr>\n",
       "      <th>397</th>\n",
       "      <td>397</td>\n",
       "      <td>Hufflepuff</td>\n",
       "    </tr>\n",
       "    <tr>\n",
       "      <th>398</th>\n",
       "      <td>398</td>\n",
       "      <td>Ravenclaw</td>\n",
       "    </tr>\n",
       "    <tr>\n",
       "      <th>399</th>\n",
       "      <td>399</td>\n",
       "      <td>Ravenclaw</td>\n",
       "    </tr>\n",
       "  </tbody>\n",
       "</table>\n",
       "<p>400 rows × 2 columns</p>\n",
       "</div>"
      ],
      "text/plain": [
       "     Index Hogwarts House\n",
       "0        0     Hufflepuff\n",
       "1        1      Ravenclaw\n",
       "2        2     Gryffindor\n",
       "3        3     Hufflepuff\n",
       "4        4     Hufflepuff\n",
       "..     ...            ...\n",
       "395    395      Slytherin\n",
       "396    396     Hufflepuff\n",
       "397    397     Hufflepuff\n",
       "398    398      Ravenclaw\n",
       "399    399      Ravenclaw\n",
       "\n",
       "[400 rows x 2 columns]"
      ]
     },
     "execution_count": 8,
     "metadata": {},
     "output_type": "execute_result"
    }
   ],
   "source": [
    "result = pd.read_csv('houses.csv')\n",
    "result"
   ]
  },
  {
   "cell_type": "raw",
   "metadata": {},
   "source": []
  },
  {
   "cell_type": "code",
   "execution_count": 9,
   "metadata": {},
   "outputs": [
    {
     "name": "stdout",
     "output_type": "stream",
     "text": [
      "Accuracy: 98.5%\n"
     ]
    }
   ],
   "source": [
    "truth = pd.read_csv('./datasets/dataset_truth.csv')\n",
    "orig = np.array(truth['Hogwarts House'].map(dic0))\n",
    "pred = prediction.astype(int)\n",
    "accuracy = 0\n",
    "for i, value in enumerate(orig):\n",
    "    if (orig[i] == pred[i]):\n",
    "        accuracy +=1\n",
    "accuracy = accuracy / len(pred) * 100\n",
    "print('Accuracy: {:.5}%'.format(accuracy))"
   ]
  },
  {
   "cell_type": "code",
   "execution_count": 10,
   "metadata": {},
   "outputs": [
    {
     "data": {
      "text/plain": [
       "98.5"
      ]
     },
     "execution_count": 10,
     "metadata": {},
     "output_type": "execute_result"
    }
   ],
   "source": [
    "from sklearn.metrics import accuracy_score\n",
    "accuracy_score(orig,pred) * 100"
   ]
  },
  {
   "cell_type": "code",
   "execution_count": null,
   "metadata": {},
   "outputs": [],
   "source": []
  }
 ],
 "metadata": {
  "kernelspec": {
   "display_name": "Python 3.9.0 64-bit",
   "language": "python",
   "name": "python39064bit022e776a03e14e82a1bf794920063e93"
  },
  "language_info": {
   "codemirror_mode": {
    "name": "ipython",
    "version": 3
   },
   "file_extension": ".py",
   "mimetype": "text/x-python",
   "name": "python",
   "nbconvert_exporter": "python",
   "pygments_lexer": "ipython3",
   "version": "3.9.0"
  }
 },
 "nbformat": 4,
 "nbformat_minor": 4
}
